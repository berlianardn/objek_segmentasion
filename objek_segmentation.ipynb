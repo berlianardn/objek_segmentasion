{
 "cells": [
  {
   "cell_type": "code",
   "execution_count": 2,
   "id": "30af7c71-a952-4120-ba44-c50b5157a364",
   "metadata": {},
   "outputs": [
    {
     "name": "stdout",
     "output_type": "stream",
     "text": [
      "2.7.0+cpu\n",
      "PyTorch imported successfully!\n"
     ]
    }
   ],
   "source": [
    "import torch\n",
    "import torch.nn as nn\n",
    "\n",
    "print(torch.__version__)\n",
    "print(\"PyTorch imported successfully!\")"
   ]
  },
  {
   "cell_type": "code",
   "execution_count": null,
   "id": "5d73e710-f762-4414-a282-d212b7fbf5ae",
   "metadata": {},
   "outputs": [
    {
     "name": "stdout",
     "output_type": "stream",
     "text": [
      "Downloading https://github.com/ultralytics/assets/releases/download/v8.3.0/yolov8n-seg.pt to 'yolov8n-seg.pt'...\n"
     ]
    },
    {
     "name": "stderr",
     "output_type": "stream",
     "text": [
      "100%|█████████████████████████████████████████████████████████████████████████████| 6.74M/6.74M [03:24<00:00, 34.6kB/s]\n"
     ]
    },
    {
     "name": "stdout",
     "output_type": "stream",
     "text": [
      "New https://pypi.org/project/ultralytics/8.3.158 available  Update with 'pip install -U ultralytics'\n",
      "Ultralytics 8.3.147  Python-3.13.3 torch-2.7.0+cpu CPU (AMD Ryzen 5 5600H with Radeon Graphics)\n",
      "\u001b[34m\u001b[1mengine\\trainer: \u001b[0magnostic_nms=False, amp=True, augment=False, auto_augment=randaugment, batch=8, bgr=0.0, box=7.5, cache=False, cfg=None, classes=None, close_mosaic=10, cls=0.5, conf=None, copy_paste=0.0, copy_paste_mode=flip, cos_lr=False, cutmix=0.0, data=datasets/data.yaml, degrees=0.0, deterministic=True, device=cpu, dfl=1.5, dnn=False, dropout=0.0, dynamic=False, embed=None, epochs=10, erasing=0.4, exist_ok=False, fliplr=0.5, flipud=0.0, format=torchscript, fraction=1.0, freeze=None, half=False, hsv_h=0.015, hsv_s=0.7, hsv_v=0.4, imgsz=640, int8=False, iou=0.7, keras=False, kobj=1.0, line_width=None, lr0=0.01, lrf=0.01, mask_ratio=4, max_det=300, mixup=0.0, mode=train, model=yolov8n-seg.pt, momentum=0.937, mosaic=1.0, multi_scale=False, name=apple-banana-orange-seg, nbs=64, nms=False, opset=None, optimize=False, optimizer=auto, overlap_mask=True, patience=100, perspective=0.0, plots=True, pose=12.0, pretrained=True, profile=False, project=runs/train, rect=False, resume=False, retina_masks=False, save=True, save_conf=False, save_crop=False, save_dir=runs\\train\\apple-banana-orange-seg, save_frames=False, save_json=False, save_period=-1, save_txt=False, scale=0.5, seed=0, shear=0.0, show=False, show_boxes=True, show_conf=True, show_labels=True, simplify=True, single_cls=False, source=None, split=val, stream_buffer=False, task=segment, time=None, tracker=botsort.yaml, translate=0.1, val=True, verbose=True, vid_stride=1, visualize=False, warmup_bias_lr=0.1, warmup_epochs=3.0, warmup_momentum=0.8, weight_decay=0.0005, workers=8, workspace=None\n",
      "Overriding model.yaml nc=80 with nc=3\n",
      "\n",
      "                   from  n    params  module                                       arguments                     \n",
      "  0                  -1  1       464  ultralytics.nn.modules.conv.Conv             [3, 16, 3, 2]                 \n",
      "  1                  -1  1      4672  ultralytics.nn.modules.conv.Conv             [16, 32, 3, 2]                \n",
      "  2                  -1  1      7360  ultralytics.nn.modules.block.C2f             [32, 32, 1, True]             \n",
      "  3                  -1  1     18560  ultralytics.nn.modules.conv.Conv             [32, 64, 3, 2]                \n",
      "  4                  -1  2     49664  ultralytics.nn.modules.block.C2f             [64, 64, 2, True]             \n",
      "  5                  -1  1     73984  ultralytics.nn.modules.conv.Conv             [64, 128, 3, 2]               \n",
      "  6                  -1  2    197632  ultralytics.nn.modules.block.C2f             [128, 128, 2, True]           \n",
      "  7                  -1  1    295424  ultralytics.nn.modules.conv.Conv             [128, 256, 3, 2]              \n",
      "  8                  -1  1    460288  ultralytics.nn.modules.block.C2f             [256, 256, 1, True]           \n",
      "  9                  -1  1    164608  ultralytics.nn.modules.block.SPPF            [256, 256, 5]                 \n",
      " 10                  -1  1         0  torch.nn.modules.upsampling.Upsample         [None, 2, 'nearest']          \n",
      " 11             [-1, 6]  1         0  ultralytics.nn.modules.conv.Concat           [1]                           \n",
      " 12                  -1  1    148224  ultralytics.nn.modules.block.C2f             [384, 128, 1]                 \n",
      " 13                  -1  1         0  torch.nn.modules.upsampling.Upsample         [None, 2, 'nearest']          \n",
      " 14             [-1, 4]  1         0  ultralytics.nn.modules.conv.Concat           [1]                           \n",
      " 15                  -1  1     37248  ultralytics.nn.modules.block.C2f             [192, 64, 1]                  \n",
      " 16                  -1  1     36992  ultralytics.nn.modules.conv.Conv             [64, 64, 3, 2]                \n",
      " 17            [-1, 12]  1         0  ultralytics.nn.modules.conv.Concat           [1]                           \n",
      " 18                  -1  1    123648  ultralytics.nn.modules.block.C2f             [192, 128, 1]                 \n",
      " 19                  -1  1    147712  ultralytics.nn.modules.conv.Conv             [128, 128, 3, 2]              \n",
      " 20             [-1, 9]  1         0  ultralytics.nn.modules.conv.Concat           [1]                           \n",
      " 21                  -1  1    493056  ultralytics.nn.modules.block.C2f             [384, 256, 1]                 \n",
      " 22        [15, 18, 21]  1   1004665  ultralytics.nn.modules.head.Segment          [3, 32, 64, [64, 128, 256]]   \n",
      "YOLOv8n-seg summary: 151 layers, 3,264,201 parameters, 3,264,185 gradients, 12.1 GFLOPs\n",
      "\n",
      "Transferred 381/417 items from pretrained weights\n",
      "Freezing layer 'model.22.dfl.conv.weight'\n",
      "\u001b[34m\u001b[1mtrain: \u001b[0mFast image access  (ping: 0.20.1 ms, read: 2.80.9 MB/s, size: 42.4 KB)\n"
     ]
    },
    {
     "name": "stderr",
     "output_type": "stream",
     "text": [
      "\u001b[34m\u001b[1mtrain: \u001b[0mScanning C:\\Users\\Asus\\objek_segmentasion\\train\\labels... 97 images, 0 backgrounds, 0 corrupt: 100%|██████████| \u001b[0m"
     ]
    },
    {
     "name": "stdout",
     "output_type": "stream",
     "text": [
      "\u001b[34m\u001b[1mtrain: \u001b[0mC:\\Users\\Asus\\objek_segmentasion\\train\\images\\mixed14_jpg.rf.dd8e889e5c7a8e298ce4cbe6f2cfeba8.jpg: 1 duplicate labels removed\n",
      "\u001b[34m\u001b[1mtrain: \u001b[0mNew cache created: C:\\Users\\Asus\\objek_segmentasion\\train\\labels.cache\n"
     ]
    },
    {
     "name": "stderr",
     "output_type": "stream",
     "text": [
      "\n",
      "C:\\Users\\Asus\\AppData\\Local\\Programs\\Python\\Python313\\Lib\\site-packages\\torch\\utils\\data\\dataloader.py:665: UserWarning: 'pin_memory' argument is set as true but no accelerator is found, then device pinned memory won't be used.\n",
      "  warnings.warn(warn_msg)\n"
     ]
    },
    {
     "name": "stdout",
     "output_type": "stream",
     "text": [
      "\u001b[34m\u001b[1mval: \u001b[0mFast image access  (ping: 0.20.1 ms, read: 2.41.0 MB/s, size: 28.3 KB)\n"
     ]
    },
    {
     "name": "stderr",
     "output_type": "stream",
     "text": [
      "\u001b[34m\u001b[1mval: \u001b[0mScanning C:\\Users\\Asus\\objek_segmentasion\\valid\\labels... 27 images, 0 backgrounds, 0 corrupt: 100%|██████████| 27\u001b[0m"
     ]
    },
    {
     "name": "stdout",
     "output_type": "stream",
     "text": [
      "\u001b[34m\u001b[1mval: \u001b[0mNew cache created: C:\\Users\\Asus\\objek_segmentasion\\valid\\labels.cache\n"
     ]
    },
    {
     "name": "stderr",
     "output_type": "stream",
     "text": [
      "\n",
      "C:\\Users\\Asus\\AppData\\Local\\Programs\\Python\\Python313\\Lib\\site-packages\\torch\\utils\\data\\dataloader.py:665: UserWarning: 'pin_memory' argument is set as true but no accelerator is found, then device pinned memory won't be used.\n",
      "  warnings.warn(warn_msg)\n"
     ]
    },
    {
     "name": "stdout",
     "output_type": "stream",
     "text": [
      "Plotting labels to runs\\train\\apple-banana-orange-seg\\labels.jpg... \n",
      "\u001b[34m\u001b[1moptimizer:\u001b[0m 'optimizer=auto' found, ignoring 'lr0=0.01' and 'momentum=0.937' and determining best 'optimizer', 'lr0' and 'momentum' automatically... \n",
      "\u001b[34m\u001b[1moptimizer:\u001b[0m AdamW(lr=0.001429, momentum=0.9) with parameter groups 66 weight(decay=0.0), 77 weight(decay=0.0005), 76 bias(decay=0.0)\n",
      "Image sizes 640 train, 640 val\n",
      "Using 0 dataloader workers\n",
      "Logging results to \u001b[1mruns\\train\\apple-banana-orange-seg\u001b[0m\n",
      "Starting training for 10 epochs...\n",
      "Closing dataloader mosaic\n",
      "\n",
      "      Epoch    GPU_mem   box_loss   seg_loss   cls_loss   dfl_loss  Instances       Size\n"
     ]
    },
    {
     "name": "stderr",
     "output_type": "stream",
     "text": [
      "C:\\Users\\Asus\\AppData\\Local\\Programs\\Python\\Python313\\Lib\\site-packages\\torch\\utils\\data\\dataloader.py:665: UserWarning: 'pin_memory' argument is set as true but no accelerator is found, then device pinned memory won't be used.\n",
      "  warnings.warn(warn_msg)\n",
      "       1/10         0G     0.8926      2.029      3.211      1.179          7        640: 100%|██████████| 13/13 [01:28\n",
      "                 Class     Images  Instances      Box(P          R      mAP50  mAP50-95)     Mask(P          R      mAP"
     ]
    },
    {
     "name": "stdout",
     "output_type": "stream",
     "text": [
      "                   all         27        167     0.0129      0.652      0.164      0.119     0.0128       0.63      0.169      0.122\n"
     ]
    },
    {
     "name": "stderr",
     "output_type": "stream",
     "text": [
      "\n"
     ]
    },
    {
     "name": "stdout",
     "output_type": "stream",
     "text": [
      "\n",
      "      Epoch    GPU_mem   box_loss   seg_loss   cls_loss   dfl_loss  Instances       Size\n"
     ]
    },
    {
     "name": "stderr",
     "output_type": "stream",
     "text": [
      "       2/10         0G     0.7767      1.351      2.518      1.184          1        640: 100%|██████████| 13/13 [01:25\n",
      "                 Class     Images  Instances      Box(P          R      mAP50  mAP50-95)     Mask(P          R      mAP"
     ]
    },
    {
     "name": "stdout",
     "output_type": "stream",
     "text": [
      "                   all         27        167     0.0146      0.732      0.181      0.129     0.0137      0.656      0.183      0.139\n"
     ]
    },
    {
     "name": "stderr",
     "output_type": "stream",
     "text": [
      "\n"
     ]
    },
    {
     "name": "stdout",
     "output_type": "stream",
     "text": [
      "\n",
      "      Epoch    GPU_mem   box_loss   seg_loss   cls_loss   dfl_loss  Instances       Size\n"
     ]
    },
    {
     "name": "stderr",
     "output_type": "stream",
     "text": [
      "       3/10         0G     0.8225      1.303       2.32      1.158          1        640: 100%|██████████| 13/13 [01:22\n",
      "                 Class     Images  Instances      Box(P          R      mAP50  mAP50-95)     Mask(P          R      mAP"
     ]
    },
    {
     "name": "stdout",
     "output_type": "stream",
     "text": [
      "                   all         27        167      0.324      0.244      0.188      0.119      0.314      0.215      0.171      0.108\n"
     ]
    },
    {
     "name": "stderr",
     "output_type": "stream",
     "text": [
      "\n"
     ]
    },
    {
     "name": "stdout",
     "output_type": "stream",
     "text": [
      "\n",
      "      Epoch    GPU_mem   box_loss   seg_loss   cls_loss   dfl_loss  Instances       Size\n"
     ]
    },
    {
     "name": "stderr",
     "output_type": "stream",
     "text": [
      "       4/10         0G     0.7949      1.286      1.998      1.053          1        640: 100%|██████████| 13/13 [01:27\n",
      "                 Class     Images  Instances      Box(P          R      mAP50  mAP50-95)     Mask(P          R      mAP"
     ]
    },
    {
     "name": "stdout",
     "output_type": "stream",
     "text": [
      "                   all         27        167      0.795     0.0884       0.29       0.17      0.795     0.0884      0.233      0.137\n"
     ]
    },
    {
     "name": "stderr",
     "output_type": "stream",
     "text": [
      "\n"
     ]
    },
    {
     "name": "stdout",
     "output_type": "stream",
     "text": [
      "\n",
      "      Epoch    GPU_mem   box_loss   seg_loss   cls_loss   dfl_loss  Instances       Size\n"
     ]
    },
    {
     "name": "stderr",
     "output_type": "stream",
     "text": [
      "       5/10         0G     0.7385      1.361      1.935      1.132          1        640: 100%|██████████| 13/13 [01:21\n",
      "                 Class     Images  Instances      Box(P          R      mAP50  mAP50-95)     Mask(P          R      mAP"
     ]
    },
    {
     "name": "stdout",
     "output_type": "stream",
     "text": [
      "                   all         27        167      0.606      0.234      0.405      0.277      0.525      0.214      0.353       0.26\n"
     ]
    },
    {
     "name": "stderr",
     "output_type": "stream",
     "text": [
      "\n"
     ]
    },
    {
     "name": "stdout",
     "output_type": "stream",
     "text": [
      "\n",
      "      Epoch    GPU_mem   box_loss   seg_loss   cls_loss   dfl_loss  Instances       Size\n"
     ]
    },
    {
     "name": "stderr",
     "output_type": "stream",
     "text": [
      "       6/10         0G     0.8012      1.276      1.883      1.132          1        640: 100%|██████████| 13/13 [01:20\n",
      "                 Class     Images  Instances      Box(P          R      mAP50  mAP50-95)     Mask(P          R      mAP"
     ]
    },
    {
     "name": "stdout",
     "output_type": "stream",
     "text": [
      "                   all         27        167      0.539      0.459      0.517      0.309      0.513      0.415      0.428      0.315\n"
     ]
    },
    {
     "name": "stderr",
     "output_type": "stream",
     "text": [
      "\n"
     ]
    },
    {
     "name": "stdout",
     "output_type": "stream",
     "text": [
      "\n",
      "      Epoch    GPU_mem   box_loss   seg_loss   cls_loss   dfl_loss  Instances       Size\n"
     ]
    },
    {
     "name": "stderr",
     "output_type": "stream",
     "text": [
      "       7/10         0G     0.7661      1.537      1.686      1.099          4        640: 100%|██████████| 13/13 [01:20\n",
      "                 Class     Images  Instances      Box(P          R      mAP50  mAP50-95)     Mask(P          R      mAP"
     ]
    },
    {
     "name": "stdout",
     "output_type": "stream",
     "text": [
      "                   all         27        167      0.495      0.586      0.541      0.345      0.435      0.499      0.413      0.302\n"
     ]
    },
    {
     "name": "stderr",
     "output_type": "stream",
     "text": [
      "\n"
     ]
    },
    {
     "name": "stdout",
     "output_type": "stream",
     "text": [
      "\n",
      "      Epoch    GPU_mem   box_loss   seg_loss   cls_loss   dfl_loss  Instances       Size\n"
     ]
    },
    {
     "name": "stderr",
     "output_type": "stream",
     "text": [
      "       8/10         0G     0.6908      1.156      1.692      1.116          6        640: 100%|██████████| 13/13 [01:23\n",
      "                 Class     Images  Instances      Box(P          R      mAP50  mAP50-95)     Mask(P          R      mAP"
     ]
    },
    {
     "name": "stdout",
     "output_type": "stream",
     "text": [
      "                   all         27        167      0.497      0.629      0.529      0.353      0.454       0.58      0.435       0.31\n"
     ]
    },
    {
     "name": "stderr",
     "output_type": "stream",
     "text": [
      "\n"
     ]
    },
    {
     "name": "stdout",
     "output_type": "stream",
     "text": [
      "\n",
      "      Epoch    GPU_mem   box_loss   seg_loss   cls_loss   dfl_loss  Instances       Size\n"
     ]
    },
    {
     "name": "stderr",
     "output_type": "stream",
     "text": [
      "       9/10         0G     0.6678      1.045      1.666      1.055          1        640: 100%|██████████| 13/13 [01:18\n",
      "                 Class     Images  Instances      Box(P          R      mAP50  mAP50-95)     Mask(P          R      mAP"
     ]
    },
    {
     "name": "stdout",
     "output_type": "stream",
     "text": [
      "                   all         27        167      0.579      0.689      0.579       0.39      0.502      0.635      0.463      0.333\n"
     ]
    },
    {
     "name": "stderr",
     "output_type": "stream",
     "text": [
      "\n"
     ]
    },
    {
     "name": "stdout",
     "output_type": "stream",
     "text": [
      "\n",
      "      Epoch    GPU_mem   box_loss   seg_loss   cls_loss   dfl_loss  Instances       Size\n"
     ]
    },
    {
     "name": "stderr",
     "output_type": "stream",
     "text": [
      "      10/10         0G     0.6789      1.254      1.609      1.044         22        640: 100%|██████████| 13/13 [01:11\n",
      "                 Class     Images  Instances      Box(P          R      mAP50  mAP50-95)     Mask(P          R      mAP"
     ]
    }
   ],
   "source": [
    "from ultralytics import YOLO\n",
    "\n",
    "# Load model YOLOv8 (deteksi objek biasa, bukan segmentasi, karena kamu pakai yolov8n.pt)\n",
    "model = YOLO(\"yolov8n-seg.pt\")\n",
    "\n",
    "# Training model\n",
    "model.train(\n",
    "    data=\"datasets/data.yaml\",  # path ke data.yaml\n",
    "    epochs=10,                  # jumlah epoch\n",
    "    imgsz=640,                  # ukuran input gambar\n",
    "    batch=8,                    # ukuran batch\n",
    "    name=\"apple-banana-orange-seg\",  # nama folder runs/train\n",
    "    project=\"runs/train\",       # folder output\n",
    "    device=\"cpu\",               # gunakan CPU (karena CUDA tidak tersedia)\n",
    ")"
   ]
  },
  {
   "cell_type": "code",
   "execution_count": 1,
   "id": "1f157f8b-e1fa-40d9-88e6-bae19028dec7",
   "metadata": {},
   "outputs": [
    {
     "name": "stdout",
     "output_type": "stream",
     "text": [
      "\n",
      "image 1/1 C:\\Users\\Asus\\objek_segmentasion\\test\\images\\1-2-_jpg.rf.fb744299dda16a109180d26a2e9e346e.jpg: 640x640 6 apples, 12 oranges, 311.9ms\n",
      "Speed: 14.1ms preprocess, 311.9ms inference, 76.2ms postprocess per image at shape (1, 3, 640, 640)\n",
      "Results saved to \u001b[1mresults\\predictions\u001b[0m\n",
      "1 label saved to results\\predictions\\labels\n",
      "\n",
      "image 1/1 C:\\Users\\Asus\\objek_segmentasion\\test\\images\\1-7-_jpg.rf.afa19a355f9e3d02db0906400c331ffb.jpg: 640x640 1 apple, 1 banana, 7 oranges, 146.0ms\n",
      "Speed: 6.9ms preprocess, 146.0ms inference, 26.5ms postprocess per image at shape (1, 3, 640, 640)\n",
      "Results saved to \u001b[1mresults\\predictions2\u001b[0m\n",
      "1 label saved to results\\predictions2\\labels\n",
      "\n",
      "image 1/1 C:\\Users\\Asus\\objek_segmentasion\\test\\images\\2-1-_jpg.rf.88ea7fbac7c6de644c25e1d76671ddb9.jpg: 640x640 5 apples, 1 banana, 3 oranges, 156.1ms\n",
      "Speed: 7.7ms preprocess, 156.1ms inference, 25.7ms postprocess per image at shape (1, 3, 640, 640)\n",
      "Results saved to \u001b[1mresults\\predictions3\u001b[0m\n",
      "1 label saved to results\\predictions3\\labels\n",
      "\n",
      "image 1/1 C:\\Users\\Asus\\objek_segmentasion\\test\\images\\2-11-_jpg.rf.f1ce3a5a271ce37be7adeed46bce9785.jpg: 640x640 14 apples, 3 bananas, 5 oranges, 159.8ms\n",
      "Speed: 6.8ms preprocess, 159.8ms inference, 62.2ms postprocess per image at shape (1, 3, 640, 640)\n",
      "Results saved to \u001b[1mresults\\predictions4\u001b[0m\n",
      "1 label saved to results\\predictions4\\labels\n",
      "\n",
      "image 1/1 C:\\Users\\Asus\\objek_segmentasion\\test\\images\\2-12-_jpg.rf.5ae53fbe69bf0f68b72f84b99967bc20.jpg: 640x640 2 apples, 2 bananas, 3 oranges, 167.4ms\n",
      "Speed: 8.4ms preprocess, 167.4ms inference, 19.9ms postprocess per image at shape (1, 3, 640, 640)\n",
      "Results saved to \u001b[1mresults\\predictions5\u001b[0m\n",
      "1 label saved to results\\predictions5\\labels\n",
      "\n",
      "image 1/1 C:\\Users\\Asus\\objek_segmentasion\\test\\images\\Banana__Healthy_augmented_20_jpg.rf.de09e97b31f123b5d17be3041a28cbe6.jpg: 640x640 (no detections), 253.0ms\n",
      "Speed: 7.6ms preprocess, 253.0ms inference, 0.7ms postprocess per image at shape (1, 3, 640, 640)\n",
      "Results saved to \u001b[1mresults\\predictions6\u001b[0m\n",
      "0 label saved to results\\predictions6\\labels\n",
      "\n",
      "image 1/1 C:\\Users\\Asus\\objek_segmentasion\\test\\images\\FreshApple-9-_jpg.rf.45ceadfe9f79bbc753e5dc65d2033eea.jpg: 640x640 1 apple, 1 orange, 157.9ms\n",
      "Speed: 6.4ms preprocess, 157.9ms inference, 6.8ms postprocess per image at shape (1, 3, 640, 640)\n",
      "Results saved to \u001b[1mresults\\predictions7\u001b[0m\n",
      "1 label saved to results\\predictions7\\labels\n",
      "\n",
      "image 1/1 C:\\Users\\Asus\\objek_segmentasion\\test\\images\\freshOrange-4-_png.rf.e096c990b1240abd6a0f1bdad92ab5fb.jpg: 640x640 3 oranges, 225.0ms\n",
      "Speed: 6.5ms preprocess, 225.0ms inference, 9.9ms postprocess per image at shape (1, 3, 640, 640)\n",
      "Results saved to \u001b[1mresults\\predictions8\u001b[0m\n",
      "1 label saved to results\\predictions8\\labels\n",
      "\n",
      "image 1/1 C:\\Users\\Asus\\objek_segmentasion\\test\\images\\mixed-2_jpg.rf.e1c97fbcacaa5f53bc72de82ec1e7a4a.jpg: 640x640 2 apples, 1 banana, 5 oranges, 156.2ms\n",
      "Speed: 6.4ms preprocess, 156.2ms inference, 26.1ms postprocess per image at shape (1, 3, 640, 640)\n",
      "Results saved to \u001b[1mresults\\predictions9\u001b[0m\n",
      "1 label saved to results\\predictions9\\labels\n",
      "\n",
      "image 1/1 C:\\Users\\Asus\\objek_segmentasion\\test\\images\\mixed15_jpg.rf.3347669ef1f2381ee1c5e94ffde2487d.jpg: 640x640 2 oranges, 193.2ms\n",
      "Speed: 7.5ms preprocess, 193.2ms inference, 11.0ms postprocess per image at shape (1, 3, 640, 640)\n",
      "Results saved to \u001b[1mresults\\predictions10\u001b[0m\n",
      "1 label saved to results\\predictions10\\labels\n",
      "\n",
      "image 1/1 C:\\Users\\Asus\\objek_segmentasion\\test\\images\\mixed19_jpg.rf.db3da2bd5c92f529adbe5a8dc7e308fd.jpg: 640x640 1 apple, 6 oranges, 203.9ms\n",
      "Speed: 5.7ms preprocess, 203.9ms inference, 28.6ms postprocess per image at shape (1, 3, 640, 640)\n",
      "Results saved to \u001b[1mresults\\predictions11\u001b[0m\n",
      "1 label saved to results\\predictions11\\labels\n",
      "\n",
      "image 1/1 C:\\Users\\Asus\\objek_segmentasion\\test\\images\\rotated_by_15_Screen-Shot-2018-06-07-at-2_19_46-PM_png.rf.da70c50474b91c30f8384a3c708e6e44.jpg: 640x640 1 orange, 187.7ms\n",
      "Speed: 7.5ms preprocess, 187.7ms inference, 5.7ms postprocess per image at shape (1, 3, 640, 640)\n",
      "Results saved to \u001b[1mresults\\predictions12\u001b[0m\n",
      "1 label saved to results\\predictions12\\labels\n",
      "\n",
      "image 1/1 C:\\Users\\Asus\\objek_segmentasion\\test\\images\\rotated_by_15_Screen-Shot-2018-06-07-at-2_20_34-PM_png.rf.0951712aa8b52698acd8095b7605d457.jpg: 640x640 1 apple, 1 orange, 197.4ms\n",
      "Speed: 6.2ms preprocess, 197.4ms inference, 7.6ms postprocess per image at shape (1, 3, 640, 640)\n",
      "Results saved to \u001b[1mresults\\predictions13\u001b[0m\n",
      "1 label saved to results\\predictions13\\labels\n",
      "\n",
      "image 1/1 C:\\Users\\Asus\\objek_segmentasion\\test\\images\\rotated_by_15_Screen-Shot-2018-06-12-at-8_47_14-PM_png.rf.5f5f4ecccea0f9e3bc96f0d913eab739.jpg: 640x640 (no detections), 198.6ms\n",
      "Speed: 7.2ms preprocess, 198.6ms inference, 0.7ms postprocess per image at shape (1, 3, 640, 640)\n",
      "Results saved to \u001b[1mresults\\predictions14\u001b[0m\n",
      "0 label saved to results\\predictions14\\labels\n",
      "✅ Inference selesai. Hasil disimpan di folder: results\\predictions\n"
     ]
    }
   ],
   "source": [
    "from ultralytics import YOLO\n",
    "import os\n",
    "\n",
    "# Muat model hasil training\n",
    "model = YOLO(\"best.pt\")  # pastikan path-nya benar\n",
    "\n",
    "# Folder berisi gambar yang ingin diuji\n",
    "test_folder = \"test/images\"\n",
    "\n",
    "# Membuat folder hasil (jika belum ada)\n",
    "output_folder = \"results\"\n",
    "os.makedirs(output_folder, exist_ok=True)\n",
    "\n",
    "# Loop setiap gambar dalam folder testing\n",
    "for image_name in os.listdir(test_folder):\n",
    "    if image_name.lower().endswith((\".jpg\", \".jpeg\", \".png\")):\n",
    "        image_path = os.path.join(test_folder, image_name)\n",
    "\n",
    "        # Jalankan prediksi segmentasi\n",
    "        results = model.predict(source=image_path, save=True, project=output_folder, name=\"predictions\", save_txt=True)\n",
    "\n",
    "print(\"✅ Inference selesai. Hasil disimpan di folder:\", os.path.join(output_folder, \"predictions\"))"
   ]
  },
  {
   "cell_type": "code",
   "execution_count": null,
   "id": "6088824d-30d1-4da2-8238-f11047b70134",
   "metadata": {},
   "outputs": [],
   "source": []
  }
 ],
 "metadata": {
  "kernelspec": {
   "display_name": "Python 3 (ipykernel)",
   "language": "python",
   "name": "python3"
  },
  "language_info": {
   "codemirror_mode": {
    "name": "ipython",
    "version": 3
   },
   "file_extension": ".py",
   "mimetype": "text/x-python",
   "name": "python",
   "nbconvert_exporter": "python",
   "pygments_lexer": "ipython3",
   "version": "3.13.3"
  }
 },
 "nbformat": 4,
 "nbformat_minor": 5
}
